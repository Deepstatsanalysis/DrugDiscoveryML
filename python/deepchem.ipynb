{
 "cells": [
  {
   "cell_type": "code",
   "execution_count": null,
   "metadata": {},
   "outputs": [],
   "source": [
    "from __future__ import print_function\n",
    "from __future__ import division\n",
    "from __future__ import unicode_literals\n",
    "\n",
    "import numpy as np\n",
    "\n",
    "np.random.seed(123)\n",
    "import tensorflow as tf\n",
    "\n",
    "from rdkit import Chem\n",
    "from rdkit.Chem.Draw import IPythonConsole\n",
    "from IPython.display import SVG\n",
    "from rdkit.Chem import rdDepictor\n",
    "from rdkit.Chem.Draw import rdMolDraw2D\n",
    "\n",
    "tf.set_random_seed(123)\n",
    "import deepchem as dc\n",
    "from deepchem.molnet import load_delaney\n",
    "import matplotlib.pyplot as plt\n",
    "%matplotlib inline\n",
    "import joblib\n",
    "\n",
    "####testing with deepchem\n",
    "###linux and OSX only"
   ]
  },
  {
   "cell_type": "code",
   "execution_count": null,
   "metadata": {},
   "outputs": [],
   "source": [
    "#load delaney dataset\n",
    "delaney_tasks, delaney_datasets, transformers=load_delaney(\n",
    "    featurizer='GraphConv',split='random')\n",
    "train_dataset,valid_dataset,test_dataset=delaney_datasets"
   ]
  },
  {
   "cell_type": "code",
   "execution_count": null,
   "metadata": {},
   "outputs": [],
   "source": [
    "example=train_dataset.ids[1]"
   ]
  },
  {
   "cell_type": "code",
   "execution_count": null,
   "metadata": {},
   "outputs": [],
   "source": [
    "metric=dc.metrics.Metric(dc.metrics.pearson_r2_score,np.mean)"
   ]
  },
  {
   "cell_type": "code",
   "execution_count": null,
   "metadata": {},
   "outputs": [],
   "source": [
    "n_atom_feat=75\n",
    "n_pair_feat=14\n",
    "\n",
    "batch_size=64\n",
    "n_feat=128\n",
    "\n",
    "\n",
    "model=dc.models.GraphConvTensorGraph(\n",
    "len(delaney_tasks),\n",
    "model_dir='delaney_tg_graph_conv_data/weights',\n",
    "    learning_rate=1e-3,\n",
    "    use_queue=False,\n",
    "    mode='regression')"
   ]
  },
  {
   "cell_type": "code",
   "execution_count": null,
   "metadata": {},
   "outputs": [],
   "source": [
    "model.fit(train_dataset,nbepoch=20,checkpoint_interval=100,max_checkpoints_to_keep=200)\n",
    "print(\"evaluating Model\")\n",
    "train_scores=model.evaluate(train_dataset,[metric],transformers)\n",
    "valid_scores=model.evaluate(valid_dataset,[metric],transformers)\n",
    "test_scores=model.evaluate(test_dataset,[metric],transformers)\n",
    "\n",
    "print(\"Train Scores\")\n",
    "print(train_scores)\n",
    "\n",
    "print(\"Validation Scores\")\n",
    "print(valid_scores)"
   ]
  },
  {
   "cell_type": "code",
   "execution_count": null,
   "metadata": {},
   "outputs": [],
   "source": [
    "pred=model.predict(test_dataset)\n",
    "real=test_dataset.y\n",
    "plt.scatter(real,pred,alpha=0.5)\n",
    "print(\"test Scores\")\n",
    "print(test_scores)"
   ]
  }
 ],
 "metadata": {
  "kernelspec": {
   "display_name": "Python 3",
   "language": "python",
   "name": "python3"
  },
  "language_info": {
   "codemirror_mode": {
    "name": "ipython",
    "version": 3
   },
   "file_extension": ".py",
   "mimetype": "text/x-python",
   "name": "python",
   "nbconvert_exporter": "python",
   "pygments_lexer": "ipython3",
   "version": "3.6.6"
  }
 },
 "nbformat": 4,
 "nbformat_minor": 2
}
