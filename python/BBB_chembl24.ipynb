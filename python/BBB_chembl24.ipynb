{
 "cells": [
  {
   "cell_type": "code",
   "execution_count": null,
   "metadata": {},
   "outputs": [],
   "source": [
    "import pandas as pd\n",
    "import numpy as np\n",
    "from sklearn import linear_model\n",
    "from sklearn.model_selection import train_test_split\n",
    "from sklearn import svm\n",
    "import tensorflow as tf\n",
    "#tf.enable_eager_execution()\n",
    "from tensorflow import keras\n",
    "import matplotlib.pyplot as plt\n",
    "from sklearn.metrics import f1_score\n",
    "from sklearn.metrics import confusion_matrix\n",
    "import itertools\n",
    "from sklearn.linear_model import LogisticRegression\n",
    "from sklearn.preprocessing import StandardScaler\n",
    "\n",
    "\n",
    "pd.set_option('display.max_columns', 500)\n",
    "pd.set_option('display.width', 1000)"
   ]
  },
  {
   "cell_type": "code",
   "execution_count": null,
   "metadata": {},
   "outputs": [],
   "source": [
    "data=pd.read_csv('chembl_24_bbb2.csv')\n",
    "data.dropna(axis=1,how='all',inplace=True)\n",
    "data.drop_duplicates(inplace=True)"
   ]
  },
  {
   "cell_type": "code",
   "execution_count": null,
   "metadata": {},
   "outputs": [],
   "source": [
    "BBB=pd.read_csv('../../DrugDatabasesTools/BBB_Files/BBB2.csv')\n",
    "BBB.drop(columns=['compounds','BBB_value','SMILES'],inplace=True)\n",
    "BBB.drop_duplicates(inplace=True)\n",
    "tt=BBB.canonical_smiles.value_counts()>1\n",
    "#Nc1nnc(-c2cccc(Cl)c2Cl)c(N)n1 True\n",
    "#CC(Cl)(Cl)Cl True\n",
    "#CN(C)CCCN1c2ccccc2CCc2ccccc21 True\n",
    "#O=C1CC(=O)N(c2ccccc2)c2cc(Cl)ccc2N1 True"
   ]
  },
  {
   "cell_type": "code",
   "execution_count": null,
   "metadata": {},
   "outputs": [],
   "source": [
    "full_1=pd.merge(data, BBB, left_on='canonical_smiles', right_on='canonical_smiles')\n",
    "full_1"
   ]
  },
  {
   "cell_type": "code",
   "execution_count": null,
   "metadata": {},
   "outputs": [],
   "source": [
    "pubchem=pd.read_csv('../../DrugDatabasesTools/PubChem/pubChem_chembl_24_bbb2.csv')\n",
    "full_2=pd.merge(full_1, pubchem, left_on='canonical_smiles', right_on='original_smiles')\n",
    "full_2"
   ]
  },
  {
   "cell_type": "code",
   "execution_count": null,
   "metadata": {},
   "outputs": [],
   "source": [
    "rdkit=pd.read_csv('../../DrugDatabasesTools/Rdkit/rdkit_chembl_24_bbb2.csv')\n",
    "rdkit.drop_duplicates(inplace=True)\n",
    "full=pd.merge(full_2, rdkit, left_on='canonical_smiles', right_on='smiles')\n",
    "full.head();"
   ]
  },
  {
   "cell_type": "code",
   "execution_count": null,
   "metadata": {},
   "outputs": [],
   "source": [
    "full['smiles_length'] = [len(i) for i in full['canonical_smiles']]\n",
    "full['fullmolformula_length'] = [len(i) for i in full['full_molformula']]\n",
    "full['smile_to_formula']=full['smiles_length']/full['fullmolformula_length']\n",
    "\n",
    "def molecule_type_to_numeric(x):\n",
    "    if x=='Small molecule':\n",
    "        return 1\n",
    "    else:\n",
    "        return 0\n",
    "full['molecule_type_nr'] = full['molecule_type'].apply(molecule_type_to_numeric)\n",
    "full.drop(columns='molecule_type',inplace=True)\n",
    "\n",
    "def y_n_to_nr(x):\n",
    "    if x=='Y':\n",
    "        return 1\n",
    "    elif x=='N':\n",
    "        return 0\n",
    "    else:\n",
    "        return np.nan\n",
    "full['ro3_pass_nr'] = full['ro3_pass'].apply(y_n_to_nr)\n",
    "full.drop(columns='ro3_pass',inplace=True)\n",
    "def molecular_species_to_nr(x):\n",
    "    if x=='NEUTRAL':\n",
    "        return 1\n",
    "    elif x=='BASE':\n",
    "        return 2\n",
    "    elif x=='ACID':\n",
    "        return 3\n",
    "    else:\n",
    "        return np.nan\n",
    "full['molecular_species_nr'] = full['molecular_species'].apply(molecular_species_to_nr)\n",
    "full.drop(columns='molecular_species',inplace=True)\n",
    "def BBB_classification_to_nr(x):\n",
    "    if x=='-':\n",
    "        return 1\n",
    "    elif x=='0':\n",
    "        return 0\n",
    "    elif x=='+':\n",
    "        return 2\n",
    "    else:\n",
    "        return np.nan\n",
    "full['BBB_classification_nr'] = full['BBB_classification'].apply(BBB_classification_to_nr)\n",
    "full.drop(columns='BBB_classification',inplace=True)\n",
    "\n",
    "full.drop(columns=[\"IUPACName\",\"InChI\",\"InChIKey\",\"CanonicalSMILES\",\"original_smiles\",\"MolecularFormula\",\"smiles\",\"molregno\", \"pref_name\",\"chembl_id\",\"chebi_par_id\",\"standard_inchi_key\",\"canonical_smiles\",'usan_year',\"structure_type\",'usan_substem',\"usan_stem_definition\",\"withdrawn_country\",\"withdrawn_reason\",\"molregno-2\",\n",
    "                  \"molregno-3\",\"molfile\",\"standard_inchi\",\"molfile\",\"standard_inchi\",\"Dissociation constant, pKa of the compound (units)\",\"Partition coefficient (logP) (units)\",\"full_molformula\",'indication_class'],inplace=True)"
   ]
  },
  {
   "cell_type": "markdown",
   "metadata": {},
   "source": [
    "category enconding, provided by [this](http://pbpython.com/categorical-encoding.html)  \n",
    "cateogry way"
   ]
  },
  {
   "cell_type": "code",
   "execution_count": null,
   "metadata": {},
   "outputs": [],
   "source": [
    "full[\"usan_stem\"] = full[\"usan_stem\"].astype('category')\n",
    "full[\"usan_stem_cat\"] = full[\"usan_stem\"].cat.codes\n",
    "full.drop(columns='usan_stem',inplace=True)"
   ]
  },
  {
   "cell_type": "markdown",
   "metadata": {},
   "source": [
    "in the same link, get dummy way"
   ]
  },
  {
   "cell_type": "code",
   "execution_count": null,
   "metadata": {},
   "outputs": [],
   "source": [
    "full=pd.get_dummies(full, columns=[\"withdrawn_class\"])"
   ]
  },
  {
   "cell_type": "code",
   "execution_count": 209,
   "metadata": {},
   "outputs": [],
   "source": [
    "cols = list(full)\n",
    "nunique = full.apply(pd.Series.nunique)\n",
    "cols_to_drop = nunique[nunique == 1].index\n",
    "full.drop(cols_to_drop, axis=1,inplace=True)"
   ]
  },
  {
   "cell_type": "markdown",
   "metadata": {},
   "source": [
    "scaling features and removing NA"
   ]
  },
  {
   "cell_type": "code",
   "execution_count": 210,
   "metadata": {
    "scrolled": true
   },
   "outputs": [
    {
     "data": {
      "text/plain": [
       "max_phase                                                        False\n",
       "therapeutic_flag                                                 False\n",
       "dosed_ingredient                                                 False\n",
       "oral                                                             False\n",
       "parenteral                                                       False\n",
       "topical                                                          False\n",
       "black_box_warning                                                False\n",
       "natural_product                                                  False\n",
       "first_in_class                                                   False\n",
       "chirality                                                        False\n",
       "prodrug                                                          False\n",
       "inorganic_flag                                                   False\n",
       "availability_type                                                False\n",
       "withdrawn_flag                                                   False\n",
       "mw_freebase                                                      False\n",
       "alogp                                                            False\n",
       "hba                                                              False\n",
       "hbd                                                              False\n",
       "psa                                                              False\n",
       "rtb                                                              False\n",
       "num_ro5_violations                                               False\n",
       "acd_logp                                                         False\n",
       "acd_logd                                                         False\n",
       "full_mwt                                                         False\n",
       "aromatic_rings                                                   False\n",
       "heavy_atoms                                                      False\n",
       "qed_weighted                                                     False\n",
       "mw_monoisotopic                                                  False\n",
       "hba_lipinski                                                     False\n",
       "hbd_lipinski                                                     False\n",
       "                                                                 ...  \n",
       "NHOHCount                                                        False\n",
       "NOCount                                                          False\n",
       "NumAliphaticCarbocycles                                          False\n",
       "NumAliphaticHeterocycles                                         False\n",
       "NumAliphaticRings                                                False\n",
       "NumAromaticCarbocycles                                           False\n",
       "NumHAcceptors                                                    False\n",
       "NumHDonors                                                       False\n",
       "NumHeteroatoms                                                   False\n",
       "NumRotatableBonds                                                False\n",
       "NumSaturatedCarbocycles                                          False\n",
       "NumSaturatedHeterocycles                                         False\n",
       "NumSaturatedRings                                                False\n",
       "NumValenceElectrons                                              False\n",
       "NumValenceElectrons                                              False\n",
       "PEOE_VSA1                                                        False\n",
       "RingCount                                                        False\n",
       "SlogP_VSA1                                                       False\n",
       "TPSA_y                                                           False\n",
       "fr_Al_COO                                                        False\n",
       "qed                                                              False\n",
       "smiles_length                                                    False\n",
       "fullmolformula_length                                            False\n",
       "smile_to_formula                                                 False\n",
       "ro3_pass_nr                                                      False\n",
       "BBB_classification_nr                                            False\n",
       "usan_stem_cat                                                    False\n",
       "withdrawn_class_Dermatological toxicity; Psychiatric toxicity    False\n",
       "withdrawn_class_Hepatotoxicity; Nephrotoxicity                   False\n",
       "withdrawn_class_Misuse                                           False\n",
       "Length: 110, dtype: bool"
      ]
     },
     "execution_count": 210,
     "metadata": {},
     "output_type": "execute_result"
    }
   ],
   "source": [
    "features=full.columns.tolist()\n",
    "features.remove('BBB_classification_nr')\n",
    "full[features] = StandardScaler().fit_transform(full[features])\n",
    "\n",
    "full.dropna(axis=1,how='any',inplace=True)\n",
    "full.isna().sum()>0#178"
   ]
  },
  {
   "cell_type": "markdown",
   "metadata": {},
   "source": [
    "### Deep-learning with tf"
   ]
  },
  {
   "cell_type": "code",
   "execution_count": null,
   "metadata": {},
   "outputs": [],
   "source": [
    "X=full.drop(columns='BBB_classification_nr')\n",
    "y=full['BBB_classification_nr']"
   ]
  },
  {
   "cell_type": "code",
   "execution_count": null,
   "metadata": {},
   "outputs": [],
   "source": [
    "X_train, X_test, y_train, y_test=train_test_split(X,y)"
   ]
  },
  {
   "cell_type": "code",
   "execution_count": null,
   "metadata": {},
   "outputs": [],
   "source": [
    "training_dataset = (\n",
    "    tf.data.Dataset.from_tensor_slices(\n",
    "        (\n",
    "            tf.cast(X[features].values, tf.float32),\n",
    "            tf.cast(y.values, tf.int32)\n",
    "        )\n",
    "    )\n",
    ")"
   ]
  },
  {
   "cell_type": "code",
   "execution_count": null,
   "metadata": {},
   "outputs": [],
   "source": [
    "model = keras.Sequential([\n",
    "    keras.layers.Flatten(input_shape=(47,)),\n",
    "    keras.layers.Dense(15, activation=tf.nn.relu),\n",
    "    keras.layers.Dense(3, activation=tf.nn.softmax)\n",
    "])\n",
    "model.compile(optimizer=tf.train.AdamOptimizer(), \n",
    "              loss='sparse_categorical_crossentropy',\n",
    "              metrics=['accuracy'])\n",
    "\n",
    "model.fit(X_train, y_train, epochs=5)"
   ]
  },
  {
   "cell_type": "code",
   "execution_count": null,
   "metadata": {},
   "outputs": [],
   "source": [
    "test_loss, test_acc = model.evaluate(X_test, y_test)\n",
    "\n",
    "print('Test accuracy:', test_acc)"
   ]
  },
  {
   "cell_type": "markdown",
   "metadata": {},
   "source": [
    "### Machine-learning --scikit-learn"
   ]
  },
  {
   "cell_type": "code",
   "execution_count": 211,
   "metadata": {
    "scrolled": true
   },
   "outputs": [
    {
     "name": "stdout",
     "output_type": "stream",
     "text": [
      "The features correlated with target above the threshold 0.5 are None\n"
     ]
    },
    {
     "data": {
      "text/plain": [
       "1"
      ]
     },
     "execution_count": 211,
     "metadata": {},
     "output_type": "execute_result"
    }
   ],
   "source": [
    "def check_correlation(df,target,corr_cutoff):\n",
    "    \n",
    "    data_train=df.sample(frac=0.7,random_state=200)\n",
    "    data_test=df.drop(data_train.index)\n",
    "\n",
    "    data_x=df.drop(columns=[target])\n",
    "    data_y=df[target]\n",
    "\n",
    "    data_x_train=data_train.drop(columns=[target])\n",
    "    data_y_train=data_train[target]\n",
    "\n",
    "    data_x_test=data_test.drop(columns=[target])\n",
    "    data_y_test=data_test[target]\n",
    "    \n",
    "    corr=data_train.corr()\n",
    "    #fig,ax=plt.subplots(figsize=(8,6))\n",
    "    #sns.heatmap(corr)\n",
    "    features=''\n",
    "    features_text=''\n",
    "    if len(corr[target].where(lambda x : x.abs()>corr_cutoff).dropna())>1:\n",
    "        features=corr[target].where(lambda x : x.abs()>corr_cutoff).dropna()\n",
    "        features_text=features.index.str.cat(sep=', ')+'\\n'\n",
    "    else:\n",
    "        features='1'\n",
    "        features_text='None'\n",
    "    print('The features correlated with target above the threshold %s are %s' %(corr_cutoff,features_text))\n",
    "    return len(features)\n",
    "\n",
    "check_correlation(full,'BBB_classification_nr',0.5)"
   ]
  },
  {
   "cell_type": "code",
   "execution_count": 212,
   "metadata": {},
   "outputs": [
    {
     "name": "stderr",
     "output_type": "stream",
     "text": [
      "C:\\Users\\joaof\\Anaconda3\\envs\\py36\\lib\\site-packages\\sklearn\\svm\\base.py:922: ConvergenceWarning: Liblinear failed to converge, increase the number of iterations.\n",
      "  \"the number of iterations.\", ConvergenceWarning)\n",
      "C:\\Users\\joaof\\Anaconda3\\envs\\py36\\lib\\site-packages\\sklearn\\metrics\\classification.py:1143: UndefinedMetricWarning: F-score is ill-defined and being set to 0.0 in labels with no predicted samples.\n",
      "  'precision', 'predicted', average, warn_for)\n",
      "C:\\Users\\joaof\\Anaconda3\\envs\\py36\\lib\\site-packages\\sklearn\\svm\\base.py:922: ConvergenceWarning: Liblinear failed to converge, increase the number of iterations.\n",
      "  \"the number of iterations.\", ConvergenceWarning)\n",
      "C:\\Users\\joaof\\Anaconda3\\envs\\py36\\lib\\site-packages\\sklearn\\svm\\base.py:922: ConvergenceWarning: Liblinear failed to converge, increase the number of iterations.\n",
      "  \"the number of iterations.\", ConvergenceWarning)\n",
      "C:\\Users\\joaof\\Anaconda3\\envs\\py36\\lib\\site-packages\\sklearn\\svm\\base.py:922: ConvergenceWarning: Liblinear failed to converge, increase the number of iterations.\n",
      "  \"the number of iterations.\", ConvergenceWarning)\n",
      "C:\\Users\\joaof\\Anaconda3\\envs\\py36\\lib\\site-packages\\sklearn\\svm\\base.py:922: ConvergenceWarning: Liblinear failed to converge, increase the number of iterations.\n",
      "  \"the number of iterations.\", ConvergenceWarning)\n",
      "C:\\Users\\joaof\\Anaconda3\\envs\\py36\\lib\\site-packages\\sklearn\\metrics\\classification.py:1145: UndefinedMetricWarning: F-score is ill-defined and being set to 0.0 in labels with no true samples.\n",
      "  'recall', 'true', average, warn_for)\n",
      "C:\\Users\\joaof\\Anaconda3\\envs\\py36\\lib\\site-packages\\sklearn\\svm\\base.py:922: ConvergenceWarning: Liblinear failed to converge, increase the number of iterations.\n",
      "  \"the number of iterations.\", ConvergenceWarning)\n",
      "C:\\Users\\joaof\\Anaconda3\\envs\\py36\\lib\\site-packages\\sklearn\\svm\\base.py:922: ConvergenceWarning: Liblinear failed to converge, increase the number of iterations.\n",
      "  \"the number of iterations.\", ConvergenceWarning)\n",
      "C:\\Users\\joaof\\Anaconda3\\envs\\py36\\lib\\site-packages\\sklearn\\metrics\\classification.py:1143: UndefinedMetricWarning: F-score is ill-defined and being set to 0.0 in labels with no predicted samples.\n",
      "  'precision', 'predicted', average, warn_for)\n",
      "C:\\Users\\joaof\\Anaconda3\\envs\\py36\\lib\\site-packages\\sklearn\\svm\\base.py:922: ConvergenceWarning: Liblinear failed to converge, increase the number of iterations.\n",
      "  \"the number of iterations.\", ConvergenceWarning)\n",
      "C:\\Users\\joaof\\Anaconda3\\envs\\py36\\lib\\site-packages\\sklearn\\svm\\base.py:922: ConvergenceWarning: Liblinear failed to converge, increase the number of iterations.\n",
      "  \"the number of iterations.\", ConvergenceWarning)\n",
      "C:\\Users\\joaof\\Anaconda3\\envs\\py36\\lib\\site-packages\\sklearn\\svm\\base.py:922: ConvergenceWarning: Liblinear failed to converge, increase the number of iterations.\n",
      "  \"the number of iterations.\", ConvergenceWarning)\n",
      "C:\\Users\\joaof\\Anaconda3\\envs\\py36\\lib\\site-packages\\sklearn\\svm\\base.py:922: ConvergenceWarning: Liblinear failed to converge, increase the number of iterations.\n",
      "  \"the number of iterations.\", ConvergenceWarning)\n",
      "C:\\Users\\joaof\\Anaconda3\\envs\\py36\\lib\\site-packages\\sklearn\\metrics\\classification.py:1143: UndefinedMetricWarning: F-score is ill-defined and being set to 0.0 in labels with no predicted samples.\n",
      "  'precision', 'predicted', average, warn_for)\n",
      "C:\\Users\\joaof\\Anaconda3\\envs\\py36\\lib\\site-packages\\sklearn\\svm\\base.py:922: ConvergenceWarning: Liblinear failed to converge, increase the number of iterations.\n",
      "  \"the number of iterations.\", ConvergenceWarning)\n",
      "C:\\Users\\joaof\\Anaconda3\\envs\\py36\\lib\\site-packages\\sklearn\\svm\\base.py:922: ConvergenceWarning: Liblinear failed to converge, increase the number of iterations.\n",
      "  \"the number of iterations.\", ConvergenceWarning)\n"
     ]
    },
    {
     "name": "stdout",
     "output_type": "stream",
     "text": [
      " Score is 0.5192307692307693. and f1 is 0.35128138600007675 for 5\n"
     ]
    },
    {
     "name": "stderr",
     "output_type": "stream",
     "text": [
      "C:\\Users\\joaof\\Anaconda3\\envs\\py36\\lib\\site-packages\\sklearn\\svm\\base.py:922: ConvergenceWarning: Liblinear failed to converge, increase the number of iterations.\n",
      "  \"the number of iterations.\", ConvergenceWarning)\n",
      "C:\\Users\\joaof\\Anaconda3\\envs\\py36\\lib\\site-packages\\sklearn\\metrics\\classification.py:1145: UndefinedMetricWarning: F-score is ill-defined and being set to 0.0 in labels with no true samples.\n",
      "  'recall', 'true', average, warn_for)\n",
      "C:\\Users\\joaof\\Anaconda3\\envs\\py36\\lib\\site-packages\\sklearn\\svm\\base.py:922: ConvergenceWarning: Liblinear failed to converge, increase the number of iterations.\n",
      "  \"the number of iterations.\", ConvergenceWarning)\n",
      "C:\\Users\\joaof\\Anaconda3\\envs\\py36\\lib\\site-packages\\sklearn\\svm\\base.py:922: ConvergenceWarning: Liblinear failed to converge, increase the number of iterations.\n",
      "  \"the number of iterations.\", ConvergenceWarning)\n",
      "C:\\Users\\joaof\\Anaconda3\\envs\\py36\\lib\\site-packages\\sklearn\\svm\\base.py:922: ConvergenceWarning: Liblinear failed to converge, increase the number of iterations.\n",
      "  \"the number of iterations.\", ConvergenceWarning)\n",
      "C:\\Users\\joaof\\Anaconda3\\envs\\py36\\lib\\site-packages\\sklearn\\metrics\\classification.py:1143: UndefinedMetricWarning: F-score is ill-defined and being set to 0.0 in labels with no predicted samples.\n",
      "  'precision', 'predicted', average, warn_for)\n",
      "C:\\Users\\joaof\\Anaconda3\\envs\\py36\\lib\\site-packages\\sklearn\\svm\\base.py:922: ConvergenceWarning: Liblinear failed to converge, increase the number of iterations.\n",
      "  \"the number of iterations.\", ConvergenceWarning)\n",
      "C:\\Users\\joaof\\Anaconda3\\envs\\py36\\lib\\site-packages\\sklearn\\svm\\base.py:922: ConvergenceWarning: Liblinear failed to converge, increase the number of iterations.\n",
      "  \"the number of iterations.\", ConvergenceWarning)\n",
      "C:\\Users\\joaof\\Anaconda3\\envs\\py36\\lib\\site-packages\\sklearn\\svm\\base.py:922: ConvergenceWarning: Liblinear failed to converge, increase the number of iterations.\n",
      "  \"the number of iterations.\", ConvergenceWarning)\n",
      "C:\\Users\\joaof\\Anaconda3\\envs\\py36\\lib\\site-packages\\sklearn\\svm\\base.py:922: ConvergenceWarning: Liblinear failed to converge, increase the number of iterations.\n",
      "  \"the number of iterations.\", ConvergenceWarning)\n",
      "C:\\Users\\joaof\\Anaconda3\\envs\\py36\\lib\\site-packages\\sklearn\\metrics\\classification.py:1143: UndefinedMetricWarning: F-score is ill-defined and being set to 0.0 in labels with no predicted samples.\n",
      "  'precision', 'predicted', average, warn_for)\n",
      "C:\\Users\\joaof\\Anaconda3\\envs\\py36\\lib\\site-packages\\sklearn\\svm\\base.py:922: ConvergenceWarning: Liblinear failed to converge, increase the number of iterations.\n",
      "  \"the number of iterations.\", ConvergenceWarning)\n",
      "C:\\Users\\joaof\\Anaconda3\\envs\\py36\\lib\\site-packages\\sklearn\\svm\\base.py:922: ConvergenceWarning: Liblinear failed to converge, increase the number of iterations.\n",
      "  \"the number of iterations.\", ConvergenceWarning)\n",
      "C:\\Users\\joaof\\Anaconda3\\envs\\py36\\lib\\site-packages\\sklearn\\svm\\base.py:922: ConvergenceWarning: Liblinear failed to converge, increase the number of iterations.\n",
      "  \"the number of iterations.\", ConvergenceWarning)\n",
      "C:\\Users\\joaof\\Anaconda3\\envs\\py36\\lib\\site-packages\\sklearn\\svm\\base.py:922: ConvergenceWarning: Liblinear failed to converge, increase the number of iterations.\n",
      "  \"the number of iterations.\", ConvergenceWarning)\n"
     ]
    },
    {
     "name": "stdout",
     "output_type": "stream",
     "text": [
      " Score is 0.573076923076923. and f1 is 0.37639999783399486 for 10\n"
     ]
    },
    {
     "name": "stderr",
     "output_type": "stream",
     "text": [
      "C:\\Users\\joaof\\Anaconda3\\envs\\py36\\lib\\site-packages\\sklearn\\metrics\\classification.py:1145: UndefinedMetricWarning: F-score is ill-defined and being set to 0.0 in labels with no true samples.\n",
      "  'recall', 'true', average, warn_for)\n",
      "C:\\Users\\joaof\\Anaconda3\\envs\\py36\\lib\\site-packages\\sklearn\\svm\\base.py:922: ConvergenceWarning: Liblinear failed to converge, increase the number of iterations.\n",
      "  \"the number of iterations.\", ConvergenceWarning)\n",
      "C:\\Users\\joaof\\Anaconda3\\envs\\py36\\lib\\site-packages\\sklearn\\metrics\\classification.py:1145: UndefinedMetricWarning: F-score is ill-defined and being set to 0.0 in labels with no true samples.\n",
      "  'recall', 'true', average, warn_for)\n",
      "C:\\Users\\joaof\\Anaconda3\\envs\\py36\\lib\\site-packages\\sklearn\\svm\\base.py:922: ConvergenceWarning: Liblinear failed to converge, increase the number of iterations.\n",
      "  \"the number of iterations.\", ConvergenceWarning)\n",
      "C:\\Users\\joaof\\Anaconda3\\envs\\py36\\lib\\site-packages\\sklearn\\metrics\\classification.py:1145: UndefinedMetricWarning: F-score is ill-defined and being set to 0.0 in labels with no true samples.\n",
      "  'recall', 'true', average, warn_for)\n",
      "C:\\Users\\joaof\\Anaconda3\\envs\\py36\\lib\\site-packages\\sklearn\\svm\\base.py:922: ConvergenceWarning: Liblinear failed to converge, increase the number of iterations.\n",
      "  \"the number of iterations.\", ConvergenceWarning)\n",
      "C:\\Users\\joaof\\Anaconda3\\envs\\py36\\lib\\site-packages\\sklearn\\svm\\base.py:922: ConvergenceWarning: Liblinear failed to converge, increase the number of iterations.\n",
      "  \"the number of iterations.\", ConvergenceWarning)\n",
      "C:\\Users\\joaof\\Anaconda3\\envs\\py36\\lib\\site-packages\\sklearn\\svm\\base.py:922: ConvergenceWarning: Liblinear failed to converge, increase the number of iterations.\n",
      "  \"the number of iterations.\", ConvergenceWarning)\n"
     ]
    },
    {
     "name": "stdout",
     "output_type": "stream",
     "text": [
      " Score is 0.523076923076923. and f1 is 0.3465759953554071 for 11\n"
     ]
    }
   ],
   "source": [
    "result={}\n",
    "from sklearn import utils\n",
    "def xLinSVC(df,target,cv=10,C=1.0,multi_class ='ovr'):\n",
    "    i=0\n",
    "    f1=0\n",
    "    score=0\n",
    "    while i<cv:\n",
    "        X=df.drop(columns=[target])\n",
    "        y=df[target]\n",
    "        X_train, X_test, y_train, y_test=train_test_split(X,y)\n",
    "        utils.multiclass.type_of_target(y_train.astype('int'))\n",
    "   \n",
    "        clf = svm.LinearSVC(C=C,multi_class =multi_class )\n",
    "        clf.fit(X_train, y_train) \n",
    "        score+=clf.score(X_test,y_test)\n",
    "        f1+=f1_score(y_test,clf.predict(X_test),average='macro')\n",
    "        i+=1\n",
    "    return score/cv, f1/cv\n",
    "\n",
    "for C in [5,10,11]:\n",
    "        svr_score,f1_s=xLinSVC(full,'BBB_classification_nr',C=C)\n",
    "        print(\" Score is %s. and f1 is %s for %s\" % ( svr_score, f1_s,C))\n",
    "result['Linsvc_score']=svr_score\n",
    "result['Linsvc_f1']=f1_s"
   ]
  },
  {
   "cell_type": "code",
   "execution_count": 213,
   "metadata": {},
   "outputs": [],
   "source": [
    "def plot_confusion_matrix(cm, classes,\n",
    "                          normalize=False,\n",
    "                          title='Confusion matrix',\n",
    "                          cmap=plt.cm.Blues):\n",
    "    \"\"\"\n",
    "    This function prints and plots the confusion matrix.\n",
    "    Normalization can be applied by setting `normalize=True`.\n",
    "    \"\"\"\n",
    "    if normalize:\n",
    "        cm = cm.astype('float') / cm.sum(axis=1)[:, np.newaxis]\n",
    "        print(\"Normalized confusion matrix\")\n",
    "    else:\n",
    "        print('Confusion matrix, without normalization')\n",
    "\n",
    "    print(cm)\n",
    "\n",
    "    plt.imshow(cm, interpolation='nearest', cmap=cmap)\n",
    "    plt.title(title)\n",
    "    plt.colorbar()\n",
    "    tick_marks = np.arange(len(classes))\n",
    "    plt.xticks(tick_marks, classes, rotation=45)\n",
    "    plt.yticks(tick_marks, classes)\n",
    "\n",
    "    fmt = '.2f' if normalize else 'd'\n",
    "    thresh = cm.max() / 2.\n",
    "    for i, j in itertools.product(range(cm.shape[0]), range(cm.shape[1])):\n",
    "        plt.text(j, i, format(cm[i, j], fmt),\n",
    "                 horizontalalignment=\"center\",\n",
    "                 color=\"white\" if cm[i, j] > thresh else \"black\")\n",
    "\n",
    "    plt.ylabel('True label')\n",
    "    plt.xlabel('Predicted label')\n",
    "    plt.tight_layout()"
   ]
  },
  {
   "cell_type": "code",
   "execution_count": 214,
   "metadata": {},
   "outputs": [
    {
     "name": "stdout",
     "output_type": "stream",
     "text": [
      " Score is 0.6807692307692308. and f1 is 0.46060779199099383 for 11\n"
     ]
    },
    {
     "name": "stderr",
     "output_type": "stream",
     "text": [
      "C:\\Users\\joaof\\Anaconda3\\envs\\py36\\lib\\site-packages\\sklearn\\metrics\\classification.py:1143: UndefinedMetricWarning: F-score is ill-defined and being set to 0.0 in labels with no predicted samples.\n",
      "  'precision', 'predicted', average, warn_for)\n",
      "C:\\Users\\joaof\\Anaconda3\\envs\\py36\\lib\\site-packages\\sklearn\\metrics\\classification.py:1143: UndefinedMetricWarning: F-score is ill-defined and being set to 0.0 in labels with no predicted samples.\n",
      "  'precision', 'predicted', average, warn_for)\n",
      "C:\\Users\\joaof\\Anaconda3\\envs\\py36\\lib\\site-packages\\sklearn\\metrics\\classification.py:1143: UndefinedMetricWarning: F-score is ill-defined and being set to 0.0 in labels with no predicted samples.\n",
      "  'precision', 'predicted', average, warn_for)\n",
      "C:\\Users\\joaof\\Anaconda3\\envs\\py36\\lib\\site-packages\\sklearn\\metrics\\classification.py:1143: UndefinedMetricWarning: F-score is ill-defined and being set to 0.0 in labels with no predicted samples.\n",
      "  'precision', 'predicted', average, warn_for)\n",
      "C:\\Users\\joaof\\Anaconda3\\envs\\py36\\lib\\site-packages\\sklearn\\metrics\\classification.py:1143: UndefinedMetricWarning: F-score is ill-defined and being set to 0.0 in labels with no predicted samples.\n",
      "  'precision', 'predicted', average, warn_for)\n",
      "C:\\Users\\joaof\\Anaconda3\\envs\\py36\\lib\\site-packages\\sklearn\\metrics\\classification.py:1143: UndefinedMetricWarning: F-score is ill-defined and being set to 0.0 in labels with no predicted samples.\n",
      "  'precision', 'predicted', average, warn_for)\n",
      "C:\\Users\\joaof\\Anaconda3\\envs\\py36\\lib\\site-packages\\sklearn\\metrics\\classification.py:1143: UndefinedMetricWarning: F-score is ill-defined and being set to 0.0 in labels with no predicted samples.\n",
      "  'precision', 'predicted', average, warn_for)\n",
      "C:\\Users\\joaof\\Anaconda3\\envs\\py36\\lib\\site-packages\\sklearn\\metrics\\classification.py:1143: UndefinedMetricWarning: F-score is ill-defined and being set to 0.0 in labels with no predicted samples.\n",
      "  'precision', 'predicted', average, warn_for)\n"
     ]
    }
   ],
   "source": [
    "def xSVC(df,target,cv=10):\n",
    "    i=0\n",
    "    f1=0\n",
    "    score=0\n",
    "    while i<cv:\n",
    "        X=df.drop(columns=[target])\n",
    "        y=df[target]\n",
    "        X_train, X_test, y_train, y_test=train_test_split(X,y)\n",
    "   \n",
    "        clf= svm.SVC(gamma='scale', decision_function_shape='ovo')\n",
    "\n",
    "        clf.fit(X_train, y_train) \n",
    "        score+=clf.score(X_test,y_test)\n",
    "        f1+=f1_score(y_test,clf.predict(X_test),average='macro')\n",
    "        i+=1\n",
    "        cnf_matrix=confusion_matrix(y_test,clf.predict(X_test))\n",
    "    return score/cv, f1/cv\n",
    "\n",
    "svr_score,f1_s=xSVC(full,'BBB_classification_nr')\n",
    "print(\" Score is %s. and f1 is %s for %s\" % ( svr_score, f1_s,C))\n",
    "result['svc_score']=svr_score\n",
    "result['svc_f1']=f1_s"
   ]
  },
  {
   "cell_type": "code",
   "execution_count": 215,
   "metadata": {},
   "outputs": [
    {
     "name": "stdout",
     "output_type": "stream",
     "text": [
      " Score is 0.5884615384615385. and f1 is 0.3916921551620772\n"
     ]
    },
    {
     "name": "stderr",
     "output_type": "stream",
     "text": [
      "C:\\Users\\joaof\\Anaconda3\\envs\\py36\\lib\\site-packages\\sklearn\\linear_model\\logistic.py:432: FutureWarning: Default solver will be changed to 'lbfgs' in 0.22. Specify a solver to silence this warning.\n",
      "  FutureWarning)\n",
      "C:\\Users\\joaof\\Anaconda3\\envs\\py36\\lib\\site-packages\\sklearn\\linear_model\\logistic.py:459: FutureWarning: Default multi_class will be changed to 'auto' in 0.22. Specify the multi_class option to silence this warning.\n",
      "  \"this warning.\", FutureWarning)\n",
      "C:\\Users\\joaof\\Anaconda3\\envs\\py36\\lib\\site-packages\\sklearn\\metrics\\classification.py:1143: UndefinedMetricWarning: F-score is ill-defined and being set to 0.0 in labels with no predicted samples.\n",
      "  'precision', 'predicted', average, warn_for)\n",
      "C:\\Users\\joaof\\Anaconda3\\envs\\py36\\lib\\site-packages\\sklearn\\linear_model\\logistic.py:432: FutureWarning: Default solver will be changed to 'lbfgs' in 0.22. Specify a solver to silence this warning.\n",
      "  FutureWarning)\n",
      "C:\\Users\\joaof\\Anaconda3\\envs\\py36\\lib\\site-packages\\sklearn\\linear_model\\logistic.py:459: FutureWarning: Default multi_class will be changed to 'auto' in 0.22. Specify the multi_class option to silence this warning.\n",
      "  \"this warning.\", FutureWarning)\n",
      "C:\\Users\\joaof\\Anaconda3\\envs\\py36\\lib\\site-packages\\sklearn\\metrics\\classification.py:1143: UndefinedMetricWarning: F-score is ill-defined and being set to 0.0 in labels with no predicted samples.\n",
      "  'precision', 'predicted', average, warn_for)\n",
      "C:\\Users\\joaof\\Anaconda3\\envs\\py36\\lib\\site-packages\\sklearn\\linear_model\\logistic.py:432: FutureWarning: Default solver will be changed to 'lbfgs' in 0.22. Specify a solver to silence this warning.\n",
      "  FutureWarning)\n",
      "C:\\Users\\joaof\\Anaconda3\\envs\\py36\\lib\\site-packages\\sklearn\\linear_model\\logistic.py:459: FutureWarning: Default multi_class will be changed to 'auto' in 0.22. Specify the multi_class option to silence this warning.\n",
      "  \"this warning.\", FutureWarning)\n",
      "C:\\Users\\joaof\\Anaconda3\\envs\\py36\\lib\\site-packages\\sklearn\\metrics\\classification.py:1143: UndefinedMetricWarning: F-score is ill-defined and being set to 0.0 in labels with no predicted samples.\n",
      "  'precision', 'predicted', average, warn_for)\n",
      "C:\\Users\\joaof\\Anaconda3\\envs\\py36\\lib\\site-packages\\sklearn\\linear_model\\logistic.py:432: FutureWarning: Default solver will be changed to 'lbfgs' in 0.22. Specify a solver to silence this warning.\n",
      "  FutureWarning)\n",
      "C:\\Users\\joaof\\Anaconda3\\envs\\py36\\lib\\site-packages\\sklearn\\linear_model\\logistic.py:459: FutureWarning: Default multi_class will be changed to 'auto' in 0.22. Specify the multi_class option to silence this warning.\n",
      "  \"this warning.\", FutureWarning)\n",
      "C:\\Users\\joaof\\Anaconda3\\envs\\py36\\lib\\site-packages\\sklearn\\linear_model\\logistic.py:432: FutureWarning: Default solver will be changed to 'lbfgs' in 0.22. Specify a solver to silence this warning.\n",
      "  FutureWarning)\n",
      "C:\\Users\\joaof\\Anaconda3\\envs\\py36\\lib\\site-packages\\sklearn\\linear_model\\logistic.py:459: FutureWarning: Default multi_class will be changed to 'auto' in 0.22. Specify the multi_class option to silence this warning.\n",
      "  \"this warning.\", FutureWarning)\n",
      "C:\\Users\\joaof\\Anaconda3\\envs\\py36\\lib\\site-packages\\sklearn\\linear_model\\logistic.py:432: FutureWarning: Default solver will be changed to 'lbfgs' in 0.22. Specify a solver to silence this warning.\n",
      "  FutureWarning)\n",
      "C:\\Users\\joaof\\Anaconda3\\envs\\py36\\lib\\site-packages\\sklearn\\linear_model\\logistic.py:459: FutureWarning: Default multi_class will be changed to 'auto' in 0.22. Specify the multi_class option to silence this warning.\n",
      "  \"this warning.\", FutureWarning)\n",
      "C:\\Users\\joaof\\Anaconda3\\envs\\py36\\lib\\site-packages\\sklearn\\metrics\\classification.py:1143: UndefinedMetricWarning: F-score is ill-defined and being set to 0.0 in labels with no predicted samples.\n",
      "  'precision', 'predicted', average, warn_for)\n",
      "C:\\Users\\joaof\\Anaconda3\\envs\\py36\\lib\\site-packages\\sklearn\\linear_model\\logistic.py:432: FutureWarning: Default solver will be changed to 'lbfgs' in 0.22. Specify a solver to silence this warning.\n",
      "  FutureWarning)\n",
      "C:\\Users\\joaof\\Anaconda3\\envs\\py36\\lib\\site-packages\\sklearn\\linear_model\\logistic.py:459: FutureWarning: Default multi_class will be changed to 'auto' in 0.22. Specify the multi_class option to silence this warning.\n",
      "  \"this warning.\", FutureWarning)\n",
      "C:\\Users\\joaof\\Anaconda3\\envs\\py36\\lib\\site-packages\\sklearn\\metrics\\classification.py:1145: UndefinedMetricWarning: F-score is ill-defined and being set to 0.0 in labels with no true samples.\n",
      "  'recall', 'true', average, warn_for)\n",
      "C:\\Users\\joaof\\Anaconda3\\envs\\py36\\lib\\site-packages\\sklearn\\linear_model\\logistic.py:432: FutureWarning: Default solver will be changed to 'lbfgs' in 0.22. Specify a solver to silence this warning.\n",
      "  FutureWarning)\n",
      "C:\\Users\\joaof\\Anaconda3\\envs\\py36\\lib\\site-packages\\sklearn\\linear_model\\logistic.py:459: FutureWarning: Default multi_class will be changed to 'auto' in 0.22. Specify the multi_class option to silence this warning.\n",
      "  \"this warning.\", FutureWarning)\n",
      "C:\\Users\\joaof\\Anaconda3\\envs\\py36\\lib\\site-packages\\sklearn\\metrics\\classification.py:1145: UndefinedMetricWarning: F-score is ill-defined and being set to 0.0 in labels with no true samples.\n",
      "  'recall', 'true', average, warn_for)\n",
      "C:\\Users\\joaof\\Anaconda3\\envs\\py36\\lib\\site-packages\\sklearn\\linear_model\\logistic.py:432: FutureWarning: Default solver will be changed to 'lbfgs' in 0.22. Specify a solver to silence this warning.\n",
      "  FutureWarning)\n",
      "C:\\Users\\joaof\\Anaconda3\\envs\\py36\\lib\\site-packages\\sklearn\\linear_model\\logistic.py:459: FutureWarning: Default multi_class will be changed to 'auto' in 0.22. Specify the multi_class option to silence this warning.\n",
      "  \"this warning.\", FutureWarning)\n",
      "C:\\Users\\joaof\\Anaconda3\\envs\\py36\\lib\\site-packages\\sklearn\\linear_model\\logistic.py:432: FutureWarning: Default solver will be changed to 'lbfgs' in 0.22. Specify a solver to silence this warning.\n",
      "  FutureWarning)\n",
      "C:\\Users\\joaof\\Anaconda3\\envs\\py36\\lib\\site-packages\\sklearn\\linear_model\\logistic.py:459: FutureWarning: Default multi_class will be changed to 'auto' in 0.22. Specify the multi_class option to silence this warning.\n",
      "  \"this warning.\", FutureWarning)\n"
     ]
    }
   ],
   "source": [
    "def xLGR(df,target,cv=10):\n",
    "    i=0\n",
    "    f1=0\n",
    "    score=0\n",
    "    while i<cv:\n",
    "        class_names = ['-','0','+']\n",
    "        X=df.drop(columns=[target])\n",
    "        y=df[target]\n",
    "        X_train, X_test, y_train, y_test=train_test_split(X,y)\n",
    "   \n",
    "        lgr= LogisticRegression()\n",
    "\n",
    "        lgr.fit(X_train, y_train) \n",
    "        score+=lgr.score(X_test,y_test)\n",
    "        f1+=f1_score(y_test,lgr.predict(X_test),average='macro')\n",
    "        i+=1\n",
    "        cnf_matrix=confusion_matrix(y_test,lgr.predict(X_test))\n",
    "        #plt.figure()\n",
    "        #plot_confusion_matrix(cnf_matrix,classes=class_names)\n",
    "    return score/cv, f1/cv\n",
    "\n",
    "svr_score,f1_s=xLGR(full,'BBB_classification_nr')\n",
    "print(\" Score is %s. and f1 is %s\" % ( svr_score, f1_s))\n",
    "result[\"LogR_score\"]=svr_score\n",
    "result[\"LogR_f1\"]=f1_s"
   ]
  },
  {
   "cell_type": "code",
   "execution_count": 216,
   "metadata": {},
   "outputs": [
    {
     "data": {
      "text/html": [
       "<div>\n",
       "<style scoped>\n",
       "    .dataframe tbody tr th:only-of-type {\n",
       "        vertical-align: middle;\n",
       "    }\n",
       "\n",
       "    .dataframe tbody tr th {\n",
       "        vertical-align: top;\n",
       "    }\n",
       "\n",
       "    .dataframe thead th {\n",
       "        text-align: right;\n",
       "    }\n",
       "</style>\n",
       "<table border=\"1\" class=\"dataframe\">\n",
       "  <thead>\n",
       "    <tr style=\"text-align: right;\">\n",
       "      <th></th>\n",
       "      <th>result</th>\n",
       "    </tr>\n",
       "  </thead>\n",
       "  <tbody>\n",
       "    <tr>\n",
       "      <th>Linsvc_score</th>\n",
       "      <td>0.523077</td>\n",
       "    </tr>\n",
       "    <tr>\n",
       "      <th>Linsvc_f1</th>\n",
       "      <td>0.346576</td>\n",
       "    </tr>\n",
       "    <tr>\n",
       "      <th>svc_score</th>\n",
       "      <td>0.680769</td>\n",
       "    </tr>\n",
       "    <tr>\n",
       "      <th>svc_f1</th>\n",
       "      <td>0.460608</td>\n",
       "    </tr>\n",
       "    <tr>\n",
       "      <th>LogR_score</th>\n",
       "      <td>0.588462</td>\n",
       "    </tr>\n",
       "    <tr>\n",
       "      <th>LogR_f1</th>\n",
       "      <td>0.391692</td>\n",
       "    </tr>\n",
       "  </tbody>\n",
       "</table>\n",
       "</div>"
      ],
      "text/plain": [
       "                result\n",
       "Linsvc_score  0.523077\n",
       "Linsvc_f1     0.346576\n",
       "svc_score     0.680769\n",
       "svc_f1        0.460608\n",
       "LogR_score    0.588462\n",
       "LogR_f1       0.391692"
      ]
     },
     "execution_count": 216,
     "metadata": {},
     "output_type": "execute_result"
    }
   ],
   "source": [
    "pd.DataFrame.from_dict(data=result,orient='index',columns=['result'])"
   ]
  }
 ],
 "metadata": {
  "kernelspec": {
   "display_name": "Python 3",
   "language": "python",
   "name": "python3"
  },
  "language_info": {
   "codemirror_mode": {
    "name": "ipython",
    "version": 3
   },
   "file_extension": ".py",
   "mimetype": "text/x-python",
   "name": "python",
   "nbconvert_exporter": "python",
   "pygments_lexer": "ipython3",
   "version": "3.6.6"
  }
 },
 "nbformat": 4,
 "nbformat_minor": 2
}
