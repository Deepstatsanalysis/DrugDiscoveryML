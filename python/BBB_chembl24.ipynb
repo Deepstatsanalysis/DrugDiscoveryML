{
 "cells": [
  {
   "cell_type": "code",
   "execution_count": 44,
   "metadata": {},
   "outputs": [],
   "source": [
    "import pandas as pd\n",
    "import numpy as np\n",
    "from sklearn import linear_model\n",
    "from sklearn.model_selection import train_test_split\n",
    "from sklearn.svm import SVR\n",
    "\n",
    "import tensorflow as tf\n",
    "#tf.enable_eager_execution()\n",
    "from tensorflow import keras\n",
    "\n",
    "\n",
    "\n",
    "pd.set_option('display.max_columns', 500)\n",
    "pd.set_option('display.width', 1000)"
   ]
  },
  {
   "cell_type": "code",
   "execution_count": 67,
   "metadata": {},
   "outputs": [],
   "source": [
    "data=pd.read_csv('chembl_24_bbb2.csv')\n",
    "data.dropna(axis=1,how='all',inplace=True)\n",
    "data;"
   ]
  },
  {
   "cell_type": "code",
   "execution_count": 68,
   "metadata": {},
   "outputs": [],
   "source": [
    "BBB=pd.read_csv('../../DrugDatabasesTools/BBB_Files/BBB2.csv')\n",
    "BBB.drop(columns=['compounds','BBB_value','SMILES'],inplace=True)\n",
    "BBB.drop_duplicates(inplace=True)\n",
    "tt=BBB.canonical_smiles.value_counts()>1\n",
    "#Nc1nnc(-c2cccc(Cl)c2Cl)c(N)n1 True\n",
    "#CC(Cl)(Cl)Cl True\n",
    "#CN(C)CCCN1c2ccccc2CCc2ccccc21 True\n",
    "#O=C1CC(=O)N(c2ccccc2)c2cc(Cl)ccc2N1 True"
   ]
  },
  {
   "cell_type": "code",
   "execution_count": 69,
   "metadata": {},
   "outputs": [],
   "source": [
    "full=pd.merge(data, BBB, left_on='canonical_smiles', right_on='canonical_smiles')\n",
    "full.head();"
   ]
  },
  {
   "cell_type": "code",
   "execution_count": 70,
   "metadata": {},
   "outputs": [],
   "source": [
    "full['smiles_length'] = [len(i) for i in full['canonical_smiles']]\n",
    "full['fullmolformula_length'] = [len(i) for i in full['full_molformula']]\n",
    "full['smile_to_formula']=full['smiles_length']/full['fullmolformula_length']\n",
    "\n",
    "def molecule_type_to_numeric(x):\n",
    "    if x=='Small molecule':\n",
    "        return 1\n",
    "    else:\n",
    "        return 0\n",
    "full['molecule_type_nr'] = full['molecule_type'].apply(molecule_type_to_numeric)\n",
    "full.drop(columns='molecule_type',inplace=True)\n",
    "\n",
    "def y_n_to_nr(x):\n",
    "    if x=='Y':\n",
    "        return 1\n",
    "    elif x=='N':\n",
    "        return 0\n",
    "    else:\n",
    "        return np.nan\n",
    "full['ro3_pass_nr'] = full['ro3_pass'].apply(y_n_to_nr)\n",
    "full.drop(columns='ro3_pass',inplace=True)\n",
    "def molecular_species_to_nr(x):\n",
    "    if x=='NEUTRAL':\n",
    "        return 1\n",
    "    elif x=='BASE':\n",
    "        return 2\n",
    "    elif x=='ACID':\n",
    "        return 3\n",
    "    else:\n",
    "        return np.nan\n",
    "full['molecular_species_nr'] = full['molecular_species'].apply(molecular_species_to_nr)\n",
    "full.drop(columns='molecular_species',inplace=True)\n",
    "def BBB_classification_to_nr(x):\n",
    "    if x=='-':\n",
    "        return 1\n",
    "    elif x=='0':\n",
    "        return 0\n",
    "    elif x=='+':\n",
    "        return 2\n",
    "    else:\n",
    "        return np.nan\n",
    "full['BBB_classification_nr'] = full['BBB_classification'].apply(BBB_classification_to_nr)\n",
    "full.drop(columns='BBB_classification',inplace=True)\n",
    "\n",
    "full.drop(columns=[\"molregno\", \"pref_name\",\"chembl_id\",\"chebi_par_id\",\"standard_inchi_key\",\"canonical_smiles\",'usan_year',\"structure_type\",'usan_substem',\"usan_stem_definition\",\"withdrawn_country\",\"withdrawn_reason\",\"molregno-2\",\n",
    "                  \"molregno-3\",\"molfile\",\"standard_inchi\",\"molfile\",\"standard_inchi\",\"Dissociation constant, pKa of the compound (units)\",\"Partition coefficient (logP) (units)\",\"full_molformula\",'indication_class'],inplace=True)"
   ]
  },
  {
   "cell_type": "code",
   "execution_count": 15,
   "metadata": {},
   "outputs": [
    {
     "data": {
      "text/plain": [
       "max_phase                False\n",
       "therapeutic_flag         False\n",
       "dosed_ingredient         False\n",
       "oral                     False\n",
       "parenteral               False\n",
       "topical                  False\n",
       "black_box_warning        False\n",
       "natural_product          False\n",
       "first_in_class           False\n",
       "chirality                False\n",
       "prodrug                  False\n",
       "inorganic_flag           False\n",
       "availability_type        False\n",
       "polymer_flag             False\n",
       "withdrawn_flag           False\n",
       "mw_freebase              False\n",
       "alogp                    False\n",
       "hba                      False\n",
       "hbd                      False\n",
       "psa                      False\n",
       "rtb                      False\n",
       "num_ro5_violations       False\n",
       "acd_logp                 False\n",
       "acd_logd                 False\n",
       "full_mwt                 False\n",
       "aromatic_rings           False\n",
       "heavy_atoms              False\n",
       "qed_weighted             False\n",
       "mw_monoisotopic          False\n",
       "hba_lipinski             False\n",
       "hbd_lipinski             False\n",
       "smiles_length            False\n",
       "fullmolformula_length    False\n",
       "smile_to_formula         False\n",
       "molecule_type_nr         False\n",
       "ro3_pass_nr              False\n",
       "BBB_classification_nr    False\n",
       "dtype: bool"
      ]
     },
     "execution_count": 15,
     "metadata": {},
     "output_type": "execute_result"
    }
   ],
   "source": [
    "full.dropna(axis=1,how='any',inplace=True)\n",
    "full.isna().sum()>0#178"
   ]
  },
  {
   "cell_type": "markdown",
   "metadata": {},
   "source": [
    "category enconding, provided by [this](http://pbpython.com/categorical-encoding.html)  \n",
    "cateogry way"
   ]
  },
  {
   "cell_type": "code",
   "execution_count": 78,
   "metadata": {},
   "outputs": [],
   "source": [
    "full[\"usan_stem\"] = full[\"usan_stem\"].astype('category')\n",
    "full[\"usan_stem_cat\"] = full[\"usan_stem\"].cat.codes\n",
    "full.drop(columns='usan_stem',inplace=True)"
   ]
  },
  {
   "cell_type": "markdown",
   "metadata": {},
   "source": [
    "in the same link, get dummy way"
   ]
  },
  {
   "cell_type": "code",
   "execution_count": 79,
   "metadata": {},
   "outputs": [],
   "source": [
    "full=pd.get_dummies(full, columns=[\"withdrawn_class\"])"
   ]
  },
  {
   "cell_type": "code",
   "execution_count": 80,
   "metadata": {},
   "outputs": [],
   "source": [
    "features=full.columns.tolist()\n",
    "features.remove('BBB_classification_nr')\n"
   ]
  },
  {
   "cell_type": "code",
   "execution_count": 81,
   "metadata": {},
   "outputs": [],
   "source": [
    "X=full.drop(columns='BBB_classification_nr')\n",
    "y=full['BBB_classification_nr']"
   ]
  },
  {
   "cell_type": "code",
   "execution_count": 82,
   "metadata": {},
   "outputs": [],
   "source": [
    "from sklearn.model_selection import train_test_split\n",
    "X_train, X_test, y_train, y_test=train_test_split(X,y)"
   ]
  },
  {
   "cell_type": "code",
   "execution_count": 72,
   "metadata": {},
   "outputs": [],
   "source": [
    "training_dataset = (\n",
    "    tf.data.Dataset.from_tensor_slices(\n",
    "        (\n",
    "            tf.cast(X[features].values, tf.float32),\n",
    "            tf.cast(y.values, tf.int32)\n",
    "        )\n",
    "    )\n",
    ")"
   ]
  },
  {
   "cell_type": "code",
   "execution_count": 90,
   "metadata": {},
   "outputs": [
    {
     "name": "stdout",
     "output_type": "stream",
     "text": [
      "Epoch 1/10\n",
      "133/133 [==============================] - 0s 352us/step - loss: nan - acc: 0.3534\n",
      "Epoch 2/10\n",
      "133/133 [==============================] - 0s 263us/step - loss: nan - acc: 0.3534\n",
      "Epoch 3/10\n",
      "133/133 [==============================] - 0s 187us/step - loss: nan - acc: 0.3534\n",
      "Epoch 4/10\n",
      "133/133 [==============================] - 0s 142us/step - loss: nan - acc: 0.3534\n",
      "Epoch 5/10\n",
      "133/133 [==============================] - 0s 225us/step - loss: nan - acc: 0.3534\n",
      "Epoch 6/10\n",
      "133/133 [==============================] - 0s 165us/step - loss: nan - acc: 0.3534\n",
      "Epoch 7/10\n",
      "133/133 [==============================] - 0s 210us/step - loss: nan - acc: 0.3534\n",
      "Epoch 8/10\n",
      "133/133 [==============================] - 0s 232us/step - loss: nan - acc: 0.3534\n",
      "Epoch 9/10\n",
      "133/133 [==============================] - ETA: 0s - loss: nan - acc: 0.34 - 0s 165us/step - loss: nan - acc: 0.3534\n",
      "Epoch 10/10\n",
      "133/133 [==============================] - ETA: 0s - loss: nan - acc: 0.34 - 0s 255us/step - loss: nan - acc: 0.3534\n"
     ]
    },
    {
     "data": {
      "text/plain": [
       "<tensorflow.python.keras.callbacks.History at 0x1b82b5dfbe0>"
      ]
     },
     "execution_count": 90,
     "metadata": {},
     "output_type": "execute_result"
    }
   ],
   "source": [
    "model = keras.Sequential([\n",
    "    keras.layers.Flatten(input_shape=(47,1)),\n",
    "    keras.layers.Dense(20, activation=tf.nn.relu),\n",
    "    keras.layers.Dense(3, activation=tf.nn.softmax)\n",
    "])\n",
    "model.compile(optimizer=tf.train.AdamOptimizer(), \n",
    "              loss='sparse_categorical_crossentropy',\n",
    "              metrics=['accuracy'])\n",
    "\n",
    "model.fit(X_train, y_train, epochs=10)"
   ]
  },
  {
   "cell_type": "code",
   "execution_count": 91,
   "metadata": {},
   "outputs": [
    {
     "name": "stdout",
     "output_type": "stream",
     "text": [
      "45/45 [==============================] - 0s 199us/step\n",
      "Test accuracy: 0.3333333366447025\n"
     ]
    }
   ],
   "source": [
    "test_loss, test_acc = model.evaluate(X_test, y_test)\n",
    "\n",
    "print('Test accuracy:', test_acc)"
   ]
  },
  {
   "cell_type": "code",
   "execution_count": null,
   "metadata": {},
   "outputs": [],
   "source": [
    "def check_correlation(df,target,corr_cutoff):\n",
    "    data_train=df.sample(frac=0.7,random_state=200)\n",
    "    data_test=df.drop(data_train.index)\n",
    "\n",
    "    data_x=df.drop(columns=[target])\n",
    "    data_y=df[target]\n",
    "\n",
    "    data_x_train=data_train.drop(columns=[target])\n",
    "    data_y_train=data_train[target]\n",
    "\n",
    "    data_x_test=data_test.drop(columns=[target])\n",
    "    data_y_test=data_test[target]\n",
    "    \n",
    "    corr=data_train.corr()\n",
    "    #fig,ax=plt.subplots(figsize=(8,6))\n",
    "    #sns.heatmap(corr)\n",
    "    features=''\n",
    "    features_text=''\n",
    "    if len(corr[target].where(lambda x : x.abs()>corr_cutoff).dropna())>1:\n",
    "        features=corr[target].where(lambda x : x.abs()>corr_cutoff).dropna()\n",
    "        features_text=features.index.str.cat(sep=', ')+'\\n'\n",
    "    else:\n",
    "        features='1'\n",
    "        features_text='None'\n",
    "    print('The features correlated with target above the threshold %s are %s' %(corr_cutoff,features_text))\n",
    "    return len(features)\n",
    "\n",
    "check_correlation(full,'BBB_classification_nr',0.5)"
   ]
  },
  {
   "cell_type": "code",
   "execution_count": null,
   "metadata": {},
   "outputs": [],
   "source": [
    "def xMlr(df,target,frac=0.7,cv=10):\n",
    "    i=0\n",
    "    mse=0\n",
    "    score=0\n",
    "    while i<cv:\n",
    "        np.random.seed(seed=123)\n",
    "        pka_data_train=df.sample(frac=0.7,random_state=200)\n",
    "        pka_data_test=df.drop(pka_data_train.index)\n",
    "\n",
    "        pka_data_x=df.drop(columns=[target])\n",
    "        pka_data_y=df[target]\n",
    "\n",
    "        pka_data_x_train=df.drop(columns=[target])\n",
    "        pka_data_y_train=df[target]\n",
    "\n",
    "        pka_data_x_test=df.drop(columns=[target])\n",
    "        pka_data_y_test=df[target]\n",
    "        regr = linear_model.LinearRegression()\n",
    "        regr.fit(pka_data_x_train, pka_data_y_train)\n",
    "        #print(regr.coef_)\n",
    "        mse+=(np.mean((regr.predict( pka_data_x_test)-pka_data_y_test)**2))\n",
    "        score+=regr.score(pka_data_x_test, pka_data_y_test)\n",
    "        i+=1\n",
    "    return mse/cv, score/cv\n",
    "mlr_mse,mlr_score=xMlr(full,'BBB_classification_nr')\n",
    "print(\"RMSE is %s. Score is %s.\" % (mlr_mse, mlr_score))"
   ]
  },
  {
   "cell_type": "code",
   "execution_count": null,
   "metadata": {},
   "outputs": [],
   "source": [
    "def xSVR(df,target,frac=0.7,cv=10):\n",
    "    i=0\n",
    "    mse=0\n",
    "    score=0\n",
    "    while i<cv:\n",
    "        np.random.seed(seed=123)\n",
    "        pka_data_train=df.sample(frac=0.7,random_state=200)\n",
    "        pka_data_test=df.drop(pka_data_train.index)\n",
    "\n",
    "        pka_data_x=df.drop(columns=[target])\n",
    "        pka_data_y=df[target]\n",
    "\n",
    "        pka_data_x_train=df.drop(columns=[target])\n",
    "        pka_data_y_train=df[target]\n",
    "\n",
    "        pka_data_x_test=df.drop(columns=[target])\n",
    "        pka_data_y_test=df[target]\n",
    "        clf = SVR(gamma='scale', C=1.0, epsilon=0.1)\n",
    "        clf.fit(pka_data_x_train, pka_data_y_train) \n",
    "        mse+=(np.mean((clf.predict( pka_data_x_test)-pka_data_y_test)**2))\n",
    "        score+=clf.score(pka_data_x_test, pka_data_y_test, sample_weight=None)\n",
    "        i+=1\n",
    "    return mse/cv, score/cv\n",
    "svr_mse,svr_score=xSVR(full,'BBB_classification_nr')\n",
    "print(\"MSE is %s. Score is %s.\" % (svr_mse, svr_score))"
   ]
  }
 ],
 "metadata": {
  "kernelspec": {
   "display_name": "Python 3",
   "language": "python",
   "name": "python3"
  },
  "language_info": {
   "codemirror_mode": {
    "name": "ipython",
    "version": 3
   },
   "file_extension": ".py",
   "mimetype": "text/x-python",
   "name": "python",
   "nbconvert_exporter": "python",
   "pygments_lexer": "ipython3",
   "version": "3.6.6"
  }
 },
 "nbformat": 4,
 "nbformat_minor": 2
}
